{
 "cells": [
  {
   "cell_type": "code",
   "execution_count": 89,
   "metadata": {
    "collapsed": true
   },
   "outputs": [],
   "source": [
    "%matplotlib inline\n",
    "import pandas as pd\n",
    "import numpy as np\n",
    "import matplotlib\n",
    "import matplotlib.pyplot as plt"
   ]
  },
  {
   "cell_type": "code",
   "execution_count": 90,
   "metadata": {
    "collapsed": true
   },
   "outputs": [],
   "source": [
    "process = np.random.randint(101, size=(1, 6)) # generate random process with 6 steps with times between 1-100 units time\n",
    "# process = [18,59,30,21,78,10] # <- alternatively fill in your own process times"
   ]
  },
  {
   "cell_type": "code",
   "execution_count": 91,
   "metadata": {},
   "outputs": [],
   "source": [
    "# define variables\n",
    "T0 = np.amax(process)\n",
    "rb = np.amax(process)/np.sum(process)\n",
    "w0 = rb*T0\n",
    "THw = 1/T0\n",
    "maxw = int(w0*25)"
   ]
  },
  {
   "cell_type": "code",
   "execution_count": 92,
   "metadata": {
    "collapsed": true
   },
   "outputs": [],
   "source": [
    "# setup arrays for each line in the plot\n",
    "wip =[] # WIP levels\n",
    "THpwc =[] # practical worst case throughput\n",
    "THw =[] # worst case throughput\n",
    "THb = [] # best case throughput"
   ]
  },
  {
   "cell_type": "code",
   "execution_count": 93,
   "metadata": {
    "collapsed": true
   },
   "outputs": [],
   "source": [
    "# loop through our formulas and fill the arrays\n",
    "for i in range(1,maxw):\n",
    "    wip = np.append(wip, [i], axis=0)\n",
    "    pwc = i/(w0+i-1)*rb\n",
    "    THpwc = np.append(THpwc, [pwc], axis=0)\n",
    "    worst = 1/T0\n",
    "    THw = np.append(THw, [worst], axis=0)\n",
    "    if i<w0:\n",
    "        best = i/T0\n",
    "    else:\n",
    "        best = rb\n",
    "    THb = np.append(THb, [best], axis=0)"
   ]
  },
  {
   "cell_type": "code",
   "execution_count": 94,
   "metadata": {},
   "outputs": [
    {
     "data": {
      "image/png": "[encoded data removed]",
      "text/plain": [
       "<matplotlib.figure.Figure at 0x1dd244d7e10>"
      ]
     },
     "metadata": {},
     "output_type": "display_data"
    }
   ],
   "source": [
    "# plot our results\n",
    "plt.plot(wip, THpwc, marker='', color='blue', linewidth=2, label=\"TH PWC\")\n",
    "plt.plot(wip, THw, marker='', color='red', linewidth=2, label=\"TH Worst\")\n",
    "plt.plot(wip, THb, marker='', color='green', linewidth=2, linestyle='dashed', label=\"TH Best\")\n",
    "plt.legend()\n",
    "plt.show()"
   ]
  }
 ],
 "metadata": {
  "kernelspec": {
   "display_name": "Python 3",
   "language": "python",
   "name": "python3"
  },
  "language_info": {
   "codemirror_mode": {
    "name": "ipython",
    "version": 3
   },
   "file_extension": ".py",
   "mimetype": "text/x-python",
   "name": "python",
   "nbconvert_exporter": "python",
   "pygments_lexer": "ipython3",
   "version": "3.5.2"
  }
 },
 "nbformat": 4,
 "nbformat_minor": 2
}
