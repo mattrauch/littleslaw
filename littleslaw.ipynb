{
 "cells": [
  {
   "cell_type": "code",
   "execution_count": null,
   "metadata": {},
   "outputs": [],
   "source": []
  },
  {
   "cell_type": "code",
   "execution_count": 5,
   "metadata": {},
   "outputs": [
    {
     "data": {
      "text/html": [
       "<ol class=list-inline>\n",
       "\t<li>12</li>\n",
       "\t<li>63</li>\n",
       "\t<li>61</li>\n",
       "\t<li>63</li>\n",
       "\t<li>87</li>\n",
       "\t<li>65</li>\n",
       "</ol>\n"
      ],
      "text/latex": [
       "\\begin{enumerate*}\n",
       "\\item 12\n",
       "\\item 63\n",
       "\\item 61\n",
       "\\item 63\n",
       "\\item 87\n",
       "\\item 65\n",
       "\\end{enumerate*}\n"
      ],
      "text/markdown": [
       "1. 12\n",
       "2. 63\n",
       "3. 61\n",
       "4. 63\n",
       "5. 87\n",
       "6. 65\n",
       "\n",
       "\n"
      ],
      "text/plain": [
       "[1] 12 63 61 63 87 65"
      ]
     },
     "metadata": {},
     "output_type": "display_data"
    }
   ],
   "source": [
    "set.seed(1234)\n",
    "process <- sample(1:100, 6, replace=T) # generate random process with 6 steps with times between 1-100 units time\n",
    "# process <- c(18,59,30,21,78,10) # <- alternatively fill in your own process times\n",
    "process"
   ]
  },
  {
   "cell_type": "code",
   "execution_count": 6,
   "metadata": {},
   "outputs": [],
   "source": [
    "# define variables\n",
    "T0 = max(process)\n",
    "rb = max(process)/sum(process)\n",
    "w0 = ceiling(rb*T0) # round to the nearest whole number\n",
    "THw = 1/T0\n",
    "maxw = w0*25"
   ]
  },
  {
   "cell_type": "code",
   "execution_count": 7,
   "metadata": {},
   "outputs": [],
   "source": [
    "# setup arrays for each line in the plot\n",
    "wip <- vector() # WIP levels\n",
    "THpwc <- vector() # practical worst case throughput\n",
    "THw <- vector() # worst case throughput\n",
    "THb <- vector() # best case throughput"
   ]
  },
  {
   "cell_type": "code",
   "execution_count": 36,
   "metadata": {},
   "outputs": [],
   "source": [
    "# loop through our formulas and fill the arrays\n",
    "for (i in 1:maxw){\n",
    "    wip[i] <- i\n",
    "    pwc <- i/(w0+i-1)*rb\n",
    "    THpwc[i] <- pwc\n",
    "    worst <- 1/T0\n",
    "    THw[i] <- worst\n",
    "    if (i<w0){\n",
    "        best = i/T0\n",
    "    } else {\n",
    "        best = rb\n",
    "    }\n",
    "    THb[i] <- best\n",
    "}"
   ]
  },
  {
   "cell_type": "code",
   "execution_count": 35,
   "metadata": {},
   "outputs": [
    {
     "data": {
      "image/png": "[encoded data removed]",
      "text/plain": [
       "plot without title"
      ]
     },
     "metadata": {},
     "output_type": "display_data"
    }
   ],
   "source": [
    "# Plot the chart.\n",
    "plot(wip, THw, col=\"red\", lty=3, ylim = c(min(THw)/2,max(THb)*1.1))\n",
    "lines(wip, THpwc, col=\"blue\",lty=2)\n",
    "lines(wip, THb, col=\"green\", lty=3)"
   ]
  },
  {
   "cell_type": "code",
   "execution_count": null,
   "metadata": {},
   "outputs": [],
   "source": []
  }
 ],
 "metadata": {
  "kernelspec": {
   "display_name": "R",
   "language": "R",
   "name": "ir"
  },
  "language_info": {
   "codemirror_mode": "r",
   "file_extension": ".r",
   "mimetype": "text/x-r-source",
   "name": "R",
   "pygments_lexer": "r",
   "version": "3.4.3"
  }
 },
 "nbformat": 4,
 "nbformat_minor": 2
}
